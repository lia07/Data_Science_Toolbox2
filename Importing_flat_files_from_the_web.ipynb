{
  "nbformat": 4,
  "nbformat_minor": 0,
  "metadata": {
    "colab": {
      "name": "Importing_flat_files_from_the_web.ipynb",
      "provenance": [],
      "authorship_tag": "ABX9TyMYCIkUrEo9dtw6pypg1Ruw",
      "include_colab_link": true
    },
    "kernelspec": {
      "name": "python3",
      "display_name": "Python 3"
    },
    "language_info": {
      "name": "python"
    }
  },
  "cells": [
    {
      "cell_type": "markdown",
      "metadata": {
        "id": "view-in-github",
        "colab_type": "text"
      },
      "source": [
        "<a href=\"https://colab.research.google.com/github/lia07/Data_Science_Toolbox2/blob/main/Importing_flat_files_from_the_web.ipynb\" target=\"_parent\"><img src=\"https://colab.research.google.com/assets/colab-badge.svg\" alt=\"Open In Colab\"/></a>"
      ]
    },
    {
      "cell_type": "markdown",
      "metadata": {
        "id": "Qp0SxVKYJ4gs"
      },
      "source": [
        "Importing flat files from the web\n"
      ]
    },
    {
      "cell_type": "code",
      "metadata": {
        "id": "B-jaukn7J5pS"
      },
      "source": [
        "Instructions\n",
        "70 XP\n",
        "Import the function urlretrieve from the subpackage urllib.request.\n",
        "Assign the URL of the file to the variable url.\n",
        "Use the function urlretrieve() to save the file locally as 'winequality-red.csv'.\n",
        "Execute the remaining code to load 'winequality-red.csv' in a pandas DataFrame and to print its head to the shell.\n",
        "\n",
        "# Import package\n",
        "from urllib.request import urlretrieve\n",
        "\n",
        "# Import pandas\n",
        "import pandas as pd\n",
        "\n",
        "# Assign url of file: url\n",
        "url = 'https://s3.amazonaws.com/assets.datacamp.com/production/course_1606/datasets/winequality-red.csv'\n",
        "\n",
        "# Save file locally\n",
        "urlretrieve(url, 'winequality-red.csv')\n",
        "\n",
        "# Read file into a DataFrame and print its head\n",
        "df = pd.read_csv('winequality-red.csv', sep=';')\n",
        "print(df.head())"
      ],
      "execution_count": null,
      "outputs": []
    },
    {
      "cell_type": "code",
      "metadata": {
        "id": "pbjn2pBBSCcj"
      },
      "source": [
        "Instructions\n",
        "100 XP\n",
        "Assign the URL of the file to the variable url.\n",
        "Read file into a DataFrame df using pd.read_csv(), recalling that the separator in the file is ';'.\n",
        "Print the head of the DataFrame df.\n",
        "Execute the rest of the code to plot histogram of the first feature in the DataFrame df.\n",
        "\n",
        "# Import packages\n",
        "import matplotlib.pyplot as plt\n",
        "import pandas as pd\n",
        "\n",
        "# Assign url of file: url\n",
        "url = 'https://s3.amazonaws.com/assets.datacamp.com/production/course_1606/datasets/winequality-red.csv'\n",
        "\n",
        "# Read file into a DataFrame: df\n",
        "df = pd.read_csv(url, sep=';')\n",
        "\n",
        "# Print the head of the DataFrame\n",
        "print(df.head())\n",
        "\n",
        "# Plot first column of df\n",
        "pd.DataFrame.hist(df.ix[:, 0:1])\n",
        "plt.xlabel('fixed acidity (g(tartaric acid)/dm$^3$)')\n",
        "plt.ylabel('count')\n",
        "plt.show()\n"
      ],
      "execution_count": null,
      "outputs": []
    },
    {
      "cell_type": "code",
      "metadata": {
        "id": "gcovHfctYAR5"
      },
      "source": [
        "Instructions\n",
        "100 XP\n",
        "Assign the URL of the file to the variable url.\n",
        "Read the file in url into a dictionary xls using pd.read_excel() recalling that, in order to import all sheets you need to pass None to the argument sheet_name.\n",
        "Print the names of the sheets in the Excel spreadsheet; these will be the keys of the dictionary xls.\n",
        "Print the head of the first sheet using the sheet name, not the index of the sheet! The sheet name is '1700'\n",
        "\n",
        "# Import package\n",
        "import pandas as pd\n",
        "\n",
        "# Assign url of file: url\n",
        "url = 'http://s3.amazonaws.com/assets.datacamp.com/course/importing_data_into_r/latitude.xls'\n",
        "\n",
        "# Read in all sheets of Excel file: xls\n",
        "xls = pd.read_excel(url, sheet_name=None)\n",
        "\n",
        "# Print the sheetnames to the shell\n",
        "print(xls.keys())\n",
        "\n",
        "# Print the head of the first sheet (using its name, NOT its index)\n",
        "print(xls['1700'].head())"
      ],
      "execution_count": null,
      "outputs": []
    },
    {
      "cell_type": "code",
      "metadata": {
        "id": "G-NNnnn90-so"
      },
      "source": [
        "Instructions\n",
        "100 XP\n",
        "Import the functions urlopen and Request from the subpackage urllib.request.\n",
        "Package the request to the url \"https://campus.datacamp.com/courses/1606/4135?ex=2\" using the function Request() and assign it to request.\n",
        "Send the request and catch the response in the variable response with the function urlopen().\n",
        "Run the rest of the code to see the datatype of response and to close the connection!\n",
        "\n",
        "# Import packages\n",
        "from urllib.request import urlopen, Request\n",
        "\n",
        "# Specify the url\n",
        "url = \"https://campus.datacamp.com/courses/1606/4135?ex=2\"\n",
        "\n",
        "# This packages the request: request\n",
        "request = Request(url)\n",
        "\n",
        "# Sends the request and catches the response: response\n",
        "response = urlopen(request)\n",
        "\n",
        "# Print the datatype of response\n",
        "print(type(response))\n",
        "\n",
        "# Be polite and close the response!\n",
        "response.close()"
      ],
      "execution_count": null,
      "outputs": []
    },
    {
      "cell_type": "code",
      "metadata": {
        "id": "_Lta_aLkE8j8"
      },
      "source": [
        "Instructions\n",
        "100 XP\n",
        "Send the request and catch the response in the variable response with the function urlopen(), as in the previous exercise.\n",
        "Extract the response using the read() method and store the result in the variable html.\n",
        "Print the string html.\n",
        "Hit submit to perform all of the above and to close the response: be tidy!\n",
        "\n"
      ],
      "execution_count": null,
      "outputs": []
    }
  ]
}